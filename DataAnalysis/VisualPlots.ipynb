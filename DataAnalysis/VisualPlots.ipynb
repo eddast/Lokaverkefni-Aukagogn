{
 "cells": [
  {
   "cell_type": "code",
   "execution_count": 1,
   "metadata": {
    "collapsed": true
   },
   "outputs": [],
   "source": [
    "import numpy as np\n",
    "import pandas as pd\n",
    "import matplotlib.pyplot as plt\n",
    "import random\n",
    "import plotly as py\n",
    "import plotly.graph_objs as go\n",
    "import matplotlib.pyplot as plt\n",
    "import matplotlib.dates as mdates\n",
    "import datetime\n",
    "import matplotlib.dates as mdates\n",
    "import matplotlib.cbook as cbook\n",
    "import seaborn as sns \n",
    "import matplotlib.patches as mpatches\n",
    "import plotly.plotly as py\n",
    "import plotly.graph_objs as go"
   ]
  },
  {
   "cell_type": "code",
   "execution_count": 2,
   "metadata": {
    "collapsed": true
   },
   "outputs": [],
   "source": [
    "initialStoryPoints = 800\n",
    "initialPriorityStoryPoints = 600\n",
    "\n",
    "ActualData = {'Entry' : [0], 'Sprint' : [0], 'SPR' : [initialStoryPoints], 'PSPR' : [initialPriorityStoryPoints], 'DayWork' : ['Preparation'], 'Hours' : [2]}\n",
    "ActualData = pd.DataFrame(data=ActualData)"
   ]
  },
  {
   "cell_type": "code",
   "execution_count": 3,
   "metadata": {
    "collapsed": true
   },
   "outputs": [],
   "source": [
    "def updateDF(DF, sprint, SPRemaining, prioritySPRemaining, workdone, hours):\n",
    "    return DF.append({'Entry' : len(ActualData.index), 'Sprint' : sprint, 'SPR' : SPRemaining, 'PSPR' : prioritySPRemaining, 'DayWork' : workdone, 'Hours' : hours}, ignore_index=True)"
   ]
  },
  {
   "cell_type": "code",
   "execution_count": 4,
   "metadata": {},
   "outputs": [
    {
     "data": {
      "text/html": [
       "<div>\n",
       "<style>\n",
       "    .dataframe thead tr:only-child th {\n",
       "        text-align: right;\n",
       "    }\n",
       "\n",
       "    .dataframe thead th {\n",
       "        text-align: left;\n",
       "    }\n",
       "\n",
       "    .dataframe tbody tr th {\n",
       "        vertical-align: top;\n",
       "    }\n",
       "</style>\n",
       "<table border=\"1\" class=\"dataframe\">\n",
       "  <thead>\n",
       "    <tr style=\"text-align: right;\">\n",
       "      <th></th>\n",
       "      <th>DayWork</th>\n",
       "      <th>Entry</th>\n",
       "      <th>Hours</th>\n",
       "      <th>PSPR</th>\n",
       "      <th>SPR</th>\n",
       "      <th>Sprint</th>\n",
       "    </tr>\n",
       "  </thead>\n",
       "  <tbody>\n",
       "    <tr>\n",
       "      <th>0</th>\n",
       "      <td>Preparation</td>\n",
       "      <td>0</td>\n",
       "      <td>2</td>\n",
       "      <td>600</td>\n",
       "      <td>800</td>\n",
       "      <td>0</td>\n",
       "    </tr>\n",
       "    <tr>\n",
       "      <th>1</th>\n",
       "      <td>Preparation</td>\n",
       "      <td>1</td>\n",
       "      <td>2</td>\n",
       "      <td>598</td>\n",
       "      <td>788</td>\n",
       "      <td>0</td>\n",
       "    </tr>\n",
       "  </tbody>\n",
       "</table>\n",
       "</div>"
      ],
      "text/plain": [
       "       DayWork  Entry  Hours  PSPR  SPR  Sprint\n",
       "0  Preparation      0      2   600  800       0\n",
       "1  Preparation      1      2   598  788       0"
      ]
     },
     "execution_count": 4,
     "metadata": {},
     "output_type": "execute_result"
    }
   ],
   "source": [
    "# UPDATES ACTUAL DATA!!\n",
    "# updateDF Param:\n",
    "# ActualData dataframe,\n",
    "# no of sprint,\n",
    "# total story points remaining\n",
    "# total priority story points remaining\n",
    "# Work done as category\n",
    "ActualData = updateDF (ActualData, 0, 788, 598, 'Preparation', 2)\n",
    "ActualData"
   ]
  },
  {
   "cell_type": "code",
   "execution_count": 5,
   "metadata": {
    "collapsed": true
   },
   "outputs": [],
   "source": [
    "def undoLastEntry(DF):\n",
    "    return DF.drop(DF.index[len(DF)-1])"
   ]
  },
  {
   "cell_type": "code",
   "execution_count": 6,
   "metadata": {},
   "outputs": [
    {
     "data": {
      "text/html": [
       "<div>\n",
       "<style>\n",
       "    .dataframe thead tr:only-child th {\n",
       "        text-align: right;\n",
       "    }\n",
       "\n",
       "    .dataframe thead th {\n",
       "        text-align: left;\n",
       "    }\n",
       "\n",
       "    .dataframe tbody tr th {\n",
       "        vertical-align: top;\n",
       "    }\n",
       "</style>\n",
       "<table border=\"1\" class=\"dataframe\">\n",
       "  <thead>\n",
       "    <tr style=\"text-align: right;\">\n",
       "      <th></th>\n",
       "      <th>DayWork</th>\n",
       "      <th>Entry</th>\n",
       "      <th>Hours</th>\n",
       "      <th>PSPR</th>\n",
       "      <th>SPR</th>\n",
       "      <th>Sprint</th>\n",
       "    </tr>\n",
       "  </thead>\n",
       "  <tbody>\n",
       "    <tr>\n",
       "      <th>0</th>\n",
       "      <td>Preparation</td>\n",
       "      <td>0</td>\n",
       "      <td>2</td>\n",
       "      <td>600</td>\n",
       "      <td>800</td>\n",
       "      <td>0</td>\n",
       "    </tr>\n",
       "  </tbody>\n",
       "</table>\n",
       "</div>"
      ],
      "text/plain": [
       "       DayWork  Entry  Hours  PSPR  SPR  Sprint\n",
       "0  Preparation      0      2   600  800       0"
      ]
     },
     "execution_count": 6,
     "metadata": {},
     "output_type": "execute_result"
    }
   ],
   "source": [
    "# UNDOES LAST ENTRY!!\n",
    "# updateDF Param:\n",
    "# ActualData dataframe,\n",
    "#ActualData = \n",
    "ActualData = undoLastEntry(ActualData)\n",
    "ActualData"
   ]
  },
  {
   "cell_type": "code",
   "execution_count": 7,
   "metadata": {},
   "outputs": [
    {
     "data": {
      "text/html": [
       "<div>\n",
       "<style>\n",
       "    .dataframe thead tr:only-child th {\n",
       "        text-align: right;\n",
       "    }\n",
       "\n",
       "    .dataframe thead th {\n",
       "        text-align: left;\n",
       "    }\n",
       "\n",
       "    .dataframe tbody tr th {\n",
       "        vertical-align: top;\n",
       "    }\n",
       "</style>\n",
       "<table border=\"1\" class=\"dataframe\">\n",
       "  <thead>\n",
       "    <tr style=\"text-align: right;\">\n",
       "      <th></th>\n",
       "      <th>DayWork</th>\n",
       "      <th>Entry</th>\n",
       "      <th>Hours</th>\n",
       "      <th>PSPR</th>\n",
       "      <th>SPR</th>\n",
       "      <th>Sprint</th>\n",
       "    </tr>\n",
       "  </thead>\n",
       "  <tbody>\n",
       "  </tbody>\n",
       "</table>\n",
       "</div>"
      ],
      "text/plain": [
       "Empty DataFrame\n",
       "Columns: [DayWork, Entry, Hours, PSPR, SPR, Sprint]\n",
       "Index: []"
      ]
     },
     "execution_count": 7,
     "metadata": {},
     "output_type": "execute_result"
    }
   ],
   "source": [
    "ActualData = undoLastEntry(ActualData)\n",
    "ActualData"
   ]
  },
  {
   "cell_type": "code",
   "execution_count": 8,
   "metadata": {},
   "outputs": [
    {
     "data": {
      "text/html": [
       "<div>\n",
       "<style>\n",
       "    .dataframe thead tr:only-child th {\n",
       "        text-align: right;\n",
       "    }\n",
       "\n",
       "    .dataframe thead th {\n",
       "        text-align: left;\n",
       "    }\n",
       "\n",
       "    .dataframe tbody tr th {\n",
       "        vertical-align: top;\n",
       "    }\n",
       "</style>\n",
       "<table border=\"1\" class=\"dataframe\">\n",
       "  <thead>\n",
       "    <tr style=\"text-align: right;\">\n",
       "      <th></th>\n",
       "      <th>DayWork</th>\n",
       "      <th>Entry</th>\n",
       "      <th>Hours</th>\n",
       "      <th>PSPR</th>\n",
       "      <th>SPR</th>\n",
       "      <th>Sprint</th>\n",
       "    </tr>\n",
       "  </thead>\n",
       "  <tbody>\n",
       "    <tr>\n",
       "      <th>0</th>\n",
       "      <td>Fundur við fyrirtæki</td>\n",
       "      <td>0</td>\n",
       "      <td>3</td>\n",
       "      <td>600</td>\n",
       "      <td>800</td>\n",
       "      <td>0</td>\n",
       "    </tr>\n",
       "    <tr>\n",
       "      <th>1</th>\n",
       "      <td>Fundur við fyrirtæki</td>\n",
       "      <td>1</td>\n",
       "      <td>3</td>\n",
       "      <td>600</td>\n",
       "      <td>800</td>\n",
       "      <td>0</td>\n",
       "    </tr>\n",
       "    <tr>\n",
       "      <th>2</th>\n",
       "      <td>Skýslugerð</td>\n",
       "      <td>2</td>\n",
       "      <td>3</td>\n",
       "      <td>600</td>\n",
       "      <td>800</td>\n",
       "      <td>0</td>\n",
       "    </tr>\n",
       "    <tr>\n",
       "      <th>3</th>\n",
       "      <td>Sniðmát fyrir frumgerðahönnun</td>\n",
       "      <td>3</td>\n",
       "      <td>3</td>\n",
       "      <td>600</td>\n",
       "      <td>800</td>\n",
       "      <td>0</td>\n",
       "    </tr>\n",
       "    <tr>\n",
       "      <th>4</th>\n",
       "      <td>Verklagsundirbúningur</td>\n",
       "      <td>4</td>\n",
       "      <td>15</td>\n",
       "      <td>600</td>\n",
       "      <td>800</td>\n",
       "      <td>0</td>\n",
       "    </tr>\n",
       "    <tr>\n",
       "      <th>5</th>\n",
       "      <td>Skýslugerð</td>\n",
       "      <td>5</td>\n",
       "      <td>2</td>\n",
       "      <td>600</td>\n",
       "      <td>800</td>\n",
       "      <td>0</td>\n",
       "    </tr>\n",
       "  </tbody>\n",
       "</table>\n",
       "</div>"
      ],
      "text/plain": [
       "                         DayWork  Entry  Hours  PSPR  SPR  Sprint\n",
       "0           Fundur við fyrirtæki      0      3   600  800       0\n",
       "1           Fundur við fyrirtæki      1      3   600  800       0\n",
       "2                     Skýslugerð      2      3   600  800       0\n",
       "3  Sniðmát fyrir frumgerðahönnun      3      3   600  800       0\n",
       "4          Verklagsundirbúningur      4     15   600  800       0\n",
       "5                     Skýslugerð      5      2   600  800       0"
      ]
     },
     "execution_count": 8,
     "metadata": {},
     "output_type": "execute_result"
    }
   ],
   "source": [
    "## FOR SPRINT 0 ACTUAL DATA\n",
    "ActualData = updateDF (ActualData, 0, initialStoryPoints, initialPriorityStoryPoints, 'Fundur við fyrirtæki', 3*1)\n",
    "ActualData = updateDF (ActualData, 0, initialStoryPoints, initialPriorityStoryPoints, 'Fundur við fyrirtæki', 3*1)\n",
    "ActualData = updateDF (ActualData, 0, initialStoryPoints, initialPriorityStoryPoints, 'Skýslugerð', 3)\n",
    "ActualData = updateDF (ActualData, 0, initialStoryPoints, initialPriorityStoryPoints, 'Sniðmát fyrir frumgerðahönnun', 3)\n",
    "ActualData = updateDF (ActualData, 0, initialStoryPoints, initialPriorityStoryPoints, 'Verklagsundirbúningur', 3*5)\n",
    "ActualData = updateDF (ActualData, 0, initialStoryPoints, initialPriorityStoryPoints, 'Skýslugerð', 2)\n",
    "\n",
    "ActualData"
   ]
  },
  {
   "cell_type": "code",
   "execution_count": 9,
   "metadata": {},
   "outputs": [
    {
     "name": "stdout",
     "output_type": "stream",
     "text": [
      "Total hours spent on sprint 0: 29\n"
     ]
    }
   ],
   "source": [
    "# Tjékka hvort passar\n",
    "sprint = 0\n",
    "print('Total hours spent on sprint ' + str(sprint) + ': ' + str(ActualData[ActualData['Sprint'] == sprint].Hours.sum()))"
   ]
  },
  {
   "cell_type": "code",
   "execution_count": 10,
   "metadata": {
    "collapsed": true
   },
   "outputs": [],
   "source": [
    "# Generates productivity pie chart for a given sprint\n",
    "\n",
    "def makeMePieChartFromSprint (sprint):\n",
    "    \n",
    "    # Frequency table created\n",
    "    DayWorkDF = ActualData\n",
    "    DayWorkDF = DayWorkDF[DayWorkDF['Sprint'] == sprint]\n",
    "    DayWorkDF = DayWorkDF.loc[:, ['DayWork', 'Hours']]\n",
    "    DayWorkDF = DayWorkDF.groupby(['DayWork'])['Hours'].sum().reset_index()\n",
    "    DayWorkDF.sort_values(by=['Hours'], ascending=False)\n",
    "    \n",
    "    # Pallette\n",
    "    cpallette = sns.color_palette(\"husl\", 8)\n",
    "\n",
    "    font = {'size'   : 14}\n",
    "    plt.rc('font', **font)\n",
    "    \n",
    "    plt.pie( DayWorkDF.Hours,\n",
    "             colors=cpallette,\n",
    "             autopct='%1.1f%%',\n",
    "             shadow=False,\n",
    "             startangle=90 )\n",
    "    \n",
    "    plt.legend(DayWorkDF.DayWork, loc=\"best\")\n",
    "    \n",
    "    plt.title('Verkefnayfirlit fyrir sprett ' + str(sprint), fontsize=20)\n",
    "    plt.tight_layout()\n",
    "    fig = plt.gcf()\n",
    "    fig.set_size_inches(12,8)\n",
    "    plt.axis('equal')\n",
    "    plt.savefig('sprettur' + str(sprint) + '.jpg')"
   ]
  },
  {
   "cell_type": "code",
   "execution_count": 11,
   "metadata": {},
   "outputs": [
    {
     "data": {
      "image/png": "[encoded data removed]",
      "text/plain": [
       "<matplotlib.figure.Figure at 0x10d2b4438>"
      ]
     },
     "metadata": {},
     "output_type": "display_data"
    }
   ],
   "source": [
    "# Plot and save figure from a sprint\n",
    "sprint = 0\n",
    "makeMePieChartFromSprint(0)\n",
    "plt.show()"
   ]
  },
  {
   "cell_type": "code",
   "execution_count": 12,
   "metadata": {
    "collapsed": true
   },
   "outputs": [],
   "source": [
    "# PLOTS BURNDOWNCHART FROM SPRINT\n",
    "\n",
    "def plotBurndownChartFromSprint (sprint) :\n",
    "    \n",
    "    font = {'size'   : 13}\n",
    "    plt.rc('font', **font)\n",
    "    \n",
    "    BDchartdata = ActualData[ActualData['Sprint'] == sprint]\n",
    "    \n",
    "    # Initialize the figure\n",
    "    plt.style.use('seaborn-darkgrid')\n",
    "\n",
    "    plt.figure(figsize = (13, 6)) \n",
    " \n",
    "    # create a color palette\n",
    "    palette = plt.get_cmap('Set1')\n",
    "    x1 = BDchartdata['Entry']\n",
    "    y1 = BDchartdata['SPR']\n",
    "\n",
    "    x2 = BDchartdata['Entry']\n",
    "    y2 = BDchartdata['PSPR']\n",
    "\n",
    "    AColor = '#99ffeb'\n",
    "    AAColor = '#00cca3'\n",
    "    EColor = '#ffcc99'\n",
    "    EEColor = '#ff9933'\n",
    "\n",
    "    # Plot the lineplot\n",
    "    plt.plot(x1, y1, '--',\n",
    "             marker='',\n",
    "             color=EColor,\n",
    "             linewidth=1.9,\n",
    "             label=BDchartdata.PSPR)\n",
    "\n",
    "    plt.plot(x2, y2,\n",
    "             marker='',\n",
    "             color=AAColor,\n",
    "             linewidth=1.9,\n",
    "             label=BDchartdata.SPR)\n",
    "\n",
    "    plt.fill_between(x1, y2, color=AColor, alpha='0.6')\n",
    "    plt.fill_between(x2, y1, color=EColor, alpha='0.1')\n",
    "\n",
    "    plt.ylim(0,1000)\n",
    "    plt.xlim(BDchartdata.Entry.min(),BDchartdata.Entry.max())\n",
    "\n",
    "    all_patch = mpatches.Patch(color=EEColor, label='Heildarsögupunktar eftir')\n",
    "    priority_patch = mpatches.Patch(color=AAColor, label='Heildarforgangssögupunktar eftir')\n",
    "\n",
    "    plt.legend(handles=[all_patch, priority_patch])\n",
    "    plt.title('Burndown Framvindurit', fontsize=17)\n",
    "    plt.ylabel('Sögupunktar', fontsize=14)\n",
    "    \n",
    "    ax = plt.gca()\n",
    "    ax.set_yticks([200,400,600,800,1000])\n",
    "    ax.set_xticks([BDchartdata.Entry.min(), BDchartdata.Entry.max()])\n",
    "    ax.set_xticklabels([\"Sprettur \" + str(sprint),\"Sprettur \" + str(sprint+1)])\n",
    "    plt.yticks(fontsize=12)\n",
    "    plt.xticks(fontsize=14, rotation=30)"
   ]
  },
  {
   "cell_type": "code",
   "execution_count": 13,
   "metadata": {},
   "outputs": [
    {
     "data": {
      "image/png": "[encoded data removed]",
      "text/plain": [
       "<matplotlib.figure.Figure at 0x1100dd978>"
      ]
     },
     "metadata": {},
     "output_type": "display_data"
    }
   ],
   "source": [
    "plotBurndownChartFromSprint(0)\n",
    "plt.show()"
   ]
  },
  {
   "cell_type": "code",
   "execution_count": null,
   "metadata": {
    "collapsed": true
   },
   "outputs": [],
   "source": []
  }
 ],
 "metadata": {
  "kernelspec": {
   "display_name": "Python 3",
   "language": "python",
   "name": "python3"
  },
  "language_info": {
   "codemirror_mode": {
    "name": "ipython",
    "version": 3
   },
   "file_extension": ".py",
   "mimetype": "text/x-python",
   "name": "python",
   "nbconvert_exporter": "python",
   "pygments_lexer": "ipython3",
   "version": "3.6.3"
  }
 },
 "nbformat": 4,
 "nbformat_minor": 2
}
